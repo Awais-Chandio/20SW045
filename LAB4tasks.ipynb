{
  "nbformat": 4,
  "nbformat_minor": 0,
  "metadata": {
    "colab": {
      "provenance": [],
      "authorship_tag": "ABX9TyNLhyWtIu9Ngzn/wt2ZblBD",
      "include_colab_link": true
    },
    "kernelspec": {
      "name": "python3",
      "display_name": "Python 3"
    },
    "language_info": {
      "name": "python"
    }
  },
  "cells": [
    {
      "cell_type": "markdown",
      "metadata": {
        "id": "view-in-github",
        "colab_type": "text"
      },
      "source": [
        "<a href=\"https://colab.research.google.com/github/Awais-Chandio/20SW045/blob/main/LAB4tasks.ipynb\" target=\"_parent\"><img src=\"https://colab.research.google.com/assets/colab-badge.svg\" alt=\"Open In Colab\"/></a>"
      ]
    },
    {
      "cell_type": "code",
      "execution_count": 1,
      "metadata": {
        "colab": {
          "base_uri": "https://localhost:8080/"
        },
        "id": "uqjd124ksoc7",
        "outputId": "692f061d-be2e-405b-f33c-199127b3807b"
      },
      "outputs": [
        {
          "output_type": "stream",
          "name": "stdout",
          "text": [
            "[[ 2  4  6  8]\n",
            " [10 12 14 16]\n",
            " [18 20 22 24]\n",
            " [26 28 30 32]]\n"
          ]
        }
      ],
      "source": [
        "//task #01\n",
        "import numpy as np\n",
        "\n",
        "X = np.arange(2, 33, 2).reshape(4, 4)\n",
        "print(X)"
      ]
    },
    {
      "cell_type": "markdown",
      "source": [
        "Task #02"
      ],
      "metadata": {
        "id": "jdX3pBJ7s7Kk"
      }
    },
    {
      "cell_type": "code",
      "source": [
        "\n",
        "import numpy as np\n",
        "\n",
        "X = np.arange(1, 26).reshape(5, 5)\n",
        "\n",
        "Y = X[X % 2 != 0]\n",
        "\n",
        "print(\"Original Array:\")\n",
        "print(X)\n",
        "print(\"\\nArray with Odd Numbers:\")\n",
        "print(Y)"
      ],
      "metadata": {
        "colab": {
          "base_uri": "https://localhost:8080/"
        },
        "id": "kvSoeepts97s",
        "outputId": "cf48861c-1f9f-4c0b-e309-13eba29eba2b"
      },
      "execution_count": 2,
      "outputs": [
        {
          "output_type": "stream",
          "name": "stdout",
          "text": [
            "Original Array:\n",
            "[[ 1  2  3  4  5]\n",
            " [ 6  7  8  9 10]\n",
            " [11 12 13 14 15]\n",
            " [16 17 18 19 20]\n",
            " [21 22 23 24 25]]\n",
            "\n",
            "Array with Odd Numbers:\n",
            "[ 1  3  5  7  9 11 13 15 17 19 21 23 25]\n"
          ]
        }
      ]
    },
    {
      "cell_type": "code",
      "source": [],
      "metadata": {
        "id": "AHa0MIqjtI7B"
      },
      "execution_count": null,
      "outputs": []
    },
    {
      "cell_type": "markdown",
      "source": [
        "Task #03"
      ],
      "metadata": {
        "id": "yPfMrlvstJZQ"
      }
    },
    {
      "cell_type": "code",
      "source": [
        "\n",
        "import numpy as np\n",
        "\n",
        "X = np.arange(1, 5).reshape(4, 1) * np.ones((1, 4))\n",
        "\n",
        "print(X)"
      ],
      "metadata": {
        "colab": {
          "base_uri": "https://localhost:8080/"
        },
        "id": "_GGLtG3DtQDC",
        "outputId": "7167f177-c02c-4884-d481-60d6500e70e4"
      },
      "execution_count": 3,
      "outputs": [
        {
          "output_type": "stream",
          "name": "stdout",
          "text": [
            "[[1. 1. 1. 1.]\n",
            " [2. 2. 2. 2.]\n",
            " [3. 3. 3. 3.]\n",
            " [4. 4. 4. 4.]]\n"
          ]
        }
      ]
    },
    {
      "cell_type": "markdown",
      "source": [
        "Task #04"
      ],
      "metadata": {
        "id": "K9wzZQBOtZ0Q"
      }
    },
    {
      "cell_type": "code",
      "source": [
        "\n",
        "from google.colab import drive\n",
        "drive.mount('/NumPy.ipynb')\n",
        "import numpy as np\n",
        "\n",
        "# Create a 1000x20 ndarray with random integers in the range [0, 5001)\n",
        "X = np.random.randint(0, 5001, size=(1000, 20))\n",
        "# Print the shape of X\n",
        "print(X.shape)\n",
        "\n",
        "# Calculate the average of the values in each column of X\n",
        "ave_cols = np.mean(X, axis=0)\n",
        "\n",
        "# Calculate the standard deviation of the values in each column of X\n",
        "std_cols = np.std(X, axis=0)\n",
        "\n",
        "\n",
        "print(\"Shape of ave_cols:\", ave_cols.shape)\n",
        "print(\"Shape of std_cols:\", std_cols.shape)\n",
        "\n",
        "# Mean normalize X\n",
        "X_norm = (X - ave_cols) / std_cols\n",
        "\n",
        "print(\"Mean normalized X:\")\n",
        "print(X_norm)\n",
        "\n",
        "# Print the average of all the values of X_norm\n",
        "ave_all_values = np.mean(X_norm)\n",
        "print(\"Average of all values in X_norm:\", ave_all_values)\n",
        "\n",
        "# Print the average of the minimum value in each column of X_norm\n",
        "ave_min_values = np.mean(np.min(X_norm, axis=0))\n",
        "print(\"Average of minimum values in each column of X_norm:\", ave_min_values)\n",
        "\n",
        "# Print the average of the maximum value in each column of X_norm\n",
        "ave_max_values = np.mean(np.max(X_norm, axis=0))\n",
        "print(\"Average of maximum values in each column of X_norm:\", ave_max_values)\n",
        "\n",
        "# We create a random permutation of integers 0 to 4\n",
        "np.random.permutation(5)\n",
        "\n",
        "# Create a random permutation of row indices of X_norm\n",
        "row_indices = np.random.permutation(X_norm.shape[0])\n",
        "\n",
        "print(\"Random permutation of row indices:\", row_indices)\n",
        "\n",
        "# Define the ratios for training, cross-validation, and test sets\n",
        "train_ratio = 0.6\n",
        "cross_val_ratio = 0.2\n",
        "test_ratio = 0.2\n",
        "\n",
        "# Calculate the sizes of each set based on the ratios\n",
        "num_rows = X_norm.shape[0]\n",
        "num_train = int(train_ratio * num_rows)\n",
        "num_cross_val = int(cross_val_ratio * num_rows)\n",
        "num_test = int(test_ratio * num_rows)\n",
        "\n",
        "# Use row_indices to split the data into sets\n",
        "X_train = X_norm[row_indices[:num_train]]\n",
        "X_crossVal = X_norm[row_indices[num_train:num_train + num_cross_val]]\n",
        "X_test = X_norm[row_indices[num_train + num_cross_val:]]\n",
        "\n",
        "print(\"X_train shape:\", X_train.shape)\n",
        "print(\"X_crossVal shape:\", X_crossVal.shape)\n",
        "print(\"X_test shape:\", X_test.shape)"
      ],
      "metadata": {
        "id": "eVArJWCOtcg-"
      },
      "execution_count": null,
      "outputs": []
    }
  ]
}